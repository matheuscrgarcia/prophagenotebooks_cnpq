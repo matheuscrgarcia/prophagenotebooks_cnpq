{
  "nbformat": 4,
  "nbformat_minor": 0,
  "metadata": {
    "colab": {
      "provenance": []
    },
    "kernelspec": {
      "name": "python3",
      "display_name": "Python 3"
    },
    "language_info": {
      "name": "python"
    }
  },
  "cells": [
    {
      "cell_type": "code",
      "execution_count": null,
      "metadata": {
        "id": "IRFnAfnVwmj7"
      },
      "outputs": [],
      "source": [
        "import pandas as pd\n",
        "import numpy as np\n",
        "import seaborn as sns\n",
        "import matplotlib\n",
        "import matplotlib as mpl\n",
        "import matplotlib.pyplot as plt\n",
        "\n",
        "csvphan= pd.read_csv(r'/content/drive/MyDrive/Colab Notebooks/phanns/allphan.csv', sep=',')\n",
        "majt = csvphan\n",
        "#majt= csvphan[((csvphan['Major capsid'] >= 8.50) | (csvphan['Major tail'] >= 8.50) | (csvphan['Minor capsid'] >= 8.50) | (csvphan['Baseplate'] >= 8.50) | (csvphan['Minor tail'] >= 8.50) | (csvphan['Portal'] >= 8.50) | (csvphan['Tail fiber'] >= 8.50) | (csvphan['Tail shaft'] >= 8.50) | (csvphan['Collar'] >= 8.50) | (csvphan['HTJ'] >= 8.50))& (csvphan['Confidence'] >= 0.85)]\n",
        "#majt = majt[['seqname','Major capsid','Confidence']]\n",
        "majt['seqname'] = majt['seqname'].apply(lambda x: x.split('_consensus')[0])\n",
        "majt = majt.reset_index(drop=True)\n",
        "majt = majt.sort_values('seqname')\n",
        "csvfinal = majt.drop(columns= ['Other','Confidence'])\n",
        "threshold = 8.50\n",
        "csvfinal = csvfinal.apply(lambda x: x if x.name == 'seqname' else pd.to_numeric(x, errors='coerce').apply(lambda y: 0 if np.isnan(y) else (0 if y < threshold else 1)))\n",
        "csvagrupado = csvfinal.groupby('seqname').agg({'Major capsid': 'sum', 'Major tail': 'sum','Minor capsid': 'sum', 'Baseplate': 'sum', 'Portal': 'sum', 'Tail fiber': 'sum','Tail shaft': 'sum', 'Collar': 'sum','HTJ': 'sum'})\n",
        "capsidtotal = csvagrupado['Major capsid']+csvagrupado['Minor capsid']\n",
        "tailtotal = csvagrupado['Major tail']+csvagrupado['Tail fiber']+csvagrupado['Tail shaft']\n",
        "csvagrupado = csvagrupado.assign(Tail_proteins=tailtotal)\n",
        "csvagrupado = csvagrupado.assign(Capsid_proteins=capsidtotal)\n",
        "csvagrupado = csvagrupado.drop(columns=['Major capsid','Minor capsid','Major tail', 'Tail fiber', 'Tail shaft'])\n",
        "csvagrupado.to_csv('agrupado4.csv')\n",
        "\n",
        "#AREA DO HEATMAP\n",
        "\n",
        "#Configs Heatmap\n",
        "sns.set(rc={'figure.figsize':(128,9)})#deveria ser 9 (agora é 15) por 58 mas ficaria muito pequeno\n",
        "sns.set(font_scale=2.0)\n",
        "boundaries = np.arange(csvagrupado.values.min()-.5,csvagrupado.values.max()+1.5 )\n",
        "ticks=np.arange(csvagrupado.values.min(),csvagrupado.values.max()+1 )\n",
        "#Geração do heatmap e salvar figura #TRANSpose faz ficar horizontal, junto com a mudança de tamanho\n",
        "heatmap = sns.heatmap(csvagrupado.transpose(),\n",
        "                      cmap=\"viridis\",\n",
        "                      cbar_kws={\"ticks\":ticks, \"boundaries\":boundaries,\"shrink\":0.8})#vertical 0.3 fica bom\n",
        "#heatmap = sns.heatmap(csvagrupado, cbar_kws={'label': 'Count','ticks': [0,1,2]}, cmap=\"tab20c\")\n",
        "heatfig = heatmap.get_figure()\n",
        "heatfig.savefig('heatmap.svg')\n",
        "#Depois de fagos completo fazer clustermap com protienas de cada grupo taxonomico"
      ]
    },
    {
      "cell_type": "code",
      "source": [],
      "metadata": {
        "id": "1T0ReILxr7Ik"
      },
      "execution_count": null,
      "outputs": []
    },
    {
      "cell_type": "code",
      "execution_count": null,
      "metadata": {
        "id": "KffcDKw-r7dK"
      },
      "outputs": [],
      "source": [
        "\n",
        "#Rodei o codigo abaixo para os completos!\n",
        "\n",
        "import pandas as pd\n",
        "import numpy as np\n",
        "import seaborn as sns\n",
        "import matplotlib\n",
        "import matplotlib as mpl\n",
        "import matplotlib.pyplot as plt\n",
        "\n",
        "csvagrupado= pd.read_csv(r'/content/drive/MyDrive/Colab Notebooks/phanns/allphan_completos.csv', sep=',', index_col=0)\n",
        "\n",
        "#csvagrupado = csvagrupado.apply(pd.to_numeric, errors='coerce')\n",
        "\n",
        "#AREA DO HEATMAP\n",
        "\n",
        "#Configs Heatmap\n",
        "sns.set(rc={'figure.figsize':(24,9)})#deveria ser 9 (agora é 15) por 58 mas ficaria muito pequeno\n",
        "sns.set(font_scale=2.0)\n",
        "boundaries = np.arange(float(csvagrupado.values.min()) - 0.5, float(csvagrupado.values.max()) + 1.5)\n",
        "ticks = np.arange(float(csvagrupado.values.min()), float(csvagrupado.values.max()) + 1)\n",
        "#Geração do heatmap e salvar figura #TRANSpose faz ficar horizontal, junto com a mudança de tamanho\n",
        "heatmap = sns.heatmap(csvagrupado,\n",
        "                      cmap=\"viridis\",\n",
        "                      cbar_kws={\"shrink\":0.3})#vertical 0.3 fica bom\n",
        "#heatmap = sns.heatmap(csvagrupado, cbar_kws={'label': 'Count','ticks': [0,1,2]}, cmap=\"tab20c\")\n",
        "heatfig = heatmap.get_figure()\n",
        "heatfig.savefig('heatmap.svg')\n",
        "#Depois de fagos completo fazer clustermap com protienas de cada grupo taxonomico"
      ]
    },
    {
      "cell_type": "code",
      "source": [
        "import pandas as pd\n",
        "import seaborn as sns\n",
        "import matplotlib.pyplot as plt\n",
        "\n",
        "data = pd.read_csv(r'/content/drive/MyDrive/Colab Notebooks/phanns/allphan_completos.csv', sep=',', index_col=0)\n",
        "\n",
        "plt.figure(figsize=(10, 8))  # Adjust the figure size as needed\n",
        "sns.heatmap(data, annot=True, cmap='coolwarm', linewidths=.5)\n",
        "\n",
        "# Show the heatmap\n",
        "plt.show()"
      ],
      "metadata": {
        "id": "PcmtwO-T1BW0"
      },
      "execution_count": null,
      "outputs": []
    },
    {
      "cell_type": "code",
      "source": [
        "#Trabalhar agora o CHECKV\n",
        "import pandas as pd\n",
        "import numpy as np\n",
        "import re\n",
        "import matplotlib.pyplot as plt\n",
        "checkv= pd.read_table(r'/content/drive/MyDrive/Colab Notebooks/phanns/quality_summary.tsv')\n",
        "replace_non_alphanumeric = lambda col, val: re.sub('[^0-9a-zA-Z]+', '_', val) if col == 'contig_id' else val\n",
        "checkv['contig_id'] = checkv.apply(lambda x: replace_non_alphanumeric('contig_id', x['contig_id']), axis=1)\n",
        "checkv.head()\n",
        "checkvtab1 = checkv[['contig_id','proviral_length']]\n",
        "checkvtab1.plot.hist(grid=True, legend=False, figsize = (10,5))#Xlabel not working automatically -- Colocar em escala de cores\n",
        "plt.xticks(fontsize=10)\n",
        "plt.yticks (fontsize=10)\n",
        "plt.title('Prophage genome lenght', size=14)\n",
        "plt.xlabel('Sequence Length', size = 12)\n",
        "plt.ylabel('Frequency', size=12)\n",
        "plt.show()"
      ],
      "metadata": {
        "id": "QlSYdhGq4voz"
      },
      "execution_count": null,
      "outputs": []
    },
    {
      "cell_type": "code",
      "source": [
        "#Eggnog\n",
        "\n",
        "Olhar dps https://pypi.org/project/pygenomeviz/"
      ],
      "metadata": {
        "id": "4pVwmT1_mkUV"
      },
      "execution_count": null,
      "outputs": []
    },
    {
      "cell_type": "code",
      "source": [
        "import pandas as pd\n",
        "import numpy as np\n",
        "import matplotlib.pyplot as plt\n",
        "\n",
        "eggnog= pd.read_table(r'/content/drive/MyDrive/Colab Notebooks/phanns/eggnog_completos_v2.tsv')\n",
        "eggnog = pd.DataFrame(eggnog)\n",
        "eggnog2= eggnog[['COG_category']]\n",
        "eggnog2 = eggnog2[eggnog2[\"COG_category\"].str.contains(\"-\") == False] #Retira os não anotados\n",
        "category_counts = eggnog2.value_counts()\n",
        "category_counts = eggnog2.value_counts().reset_index(name='count')\n",
        "category_counts = pd.DataFrame(category_counts, columns=['COG_category', 'count'])\n",
        "category_counts.set_index('COG_category', inplace=True)\n",
        "category_counts.reset_index()\n",
        "rows_less_than_6 = category_counts.loc[category_counts.sum(axis=1) < 10]\n",
        "row_sum = rows_less_than_6.sum()\n",
        "category_counts.loc['Other'] = row_sum\n",
        "category_counts.drop(rows_less_than_6.index, inplace=True)\n",
        "#print(category_counts)\n",
        "category_counts.to_csv('cat_count.csv')\n",
        "bar = category_counts.plot(kind='bar', y='count', figsize=(10,10), grid=True, legend=False)\n",
        "plt.title('COG Distribution in propage-like elements', size=14)\n",
        "plt.xlabel('COG Category', size = 12)\n",
        "plt.ylabel('Quantity', size=12)\n",
        "plt.xticks(fontsize=10)\n",
        "plt.yticks (fontsize=10)\n",
        "#pie.legend(loc='lower center', ncol= 6, bbox_to_anchor=(0.5,-0.5)) # Garante legenda abaixo do gráfico\n"
      ],
      "metadata": {
        "id": "QZBODt4TwvY8"
      },
      "execution_count": null,
      "outputs": []
    },
    {
      "cell_type": "markdown",
      "source": [
        "# KEGG PATHWAYS"
      ],
      "metadata": {
        "id": "0_-vq6K5DTZo"
      }
    },
    {
      "cell_type": "code",
      "source": [
        "import pandas as pd\n",
        "\n",
        "# Carregue seus dados da tabela em um DataFrame do pandas\n",
        "data = pd.read_csv('/content/drive/MyDrive/Colab Notebooks/phanns/eggnog_completos_v2.tsv', sep= \"\\t\")  # Substitua 'seu_arquivo.csv' pelo caminho para o seu arquivo\n",
        "\n",
        "# Suponha que os nomes dos genes estejam em uma coluna chamada 'Gene'\n",
        "data = data[['KEGG_Pathway']]\n",
        "data = data[data[\"KEGG_Pathway\"].str.contains(\"-\") == False]\n",
        "data['KEGG_Pathway'] = data['KEGG_Pathway'].str.split(',')\n",
        "data = data.explode('KEGG_Pathway')\n",
        "data = data[~data['KEGG_Pathway'].str.startswith('map')]\n",
        "data.reset_index(drop=True, inplace=True)\n",
        "\n",
        "# Use o método 'value_counts()' para calcular a frequência de cada gene\n",
        "frequencia_genes = data['KEGG_Pathway'].value_counts()\n",
        "\n",
        "# Crie um novo DataFrame com as colunas 'Gene' e 'Frequência'\n",
        "df_frequencia_genes = pd.DataFrame({'Gene': frequencia_genes.index, 'Frequência': frequencia_genes.values})\n",
        "\n",
        "# Exiba o novo DataFrame\n",
        "print(df_frequencia_genes)\n"
      ],
      "metadata": {
        "id": "ApoDUzVvDSBG"
      },
      "execution_count": null,
      "outputs": []
    },
    {
      "cell_type": "code",
      "source": [
        "import requests\n",
        "\n",
        "# URL da API do KEGG para listar todos os Pathways\n",
        "url = 'http://rest.kegg.jp/list/pathway/ko'\n",
        "\n",
        "# Faça uma solicitação GET para obter a lista de Pathways\n",
        "response = requests.get(url)\n",
        "\n",
        "# Verifique se a solicitação foi bem-sucedida\n",
        "if response.status_code == 200:\n",
        "    # Divida a resposta em linhas\n",
        "    lines = response.text.strip().split('\\n')\n",
        "\n",
        "    # Crie um dicionário para armazenar os códigos e nomes dos Pathways\n",
        "    pathway_dict = {}\n",
        "\n",
        "    # Itere pelas linhas e extraia os códigos e nomes\n",
        "    for line in lines:\n",
        "        parts = line.split('\\t')\n",
        "        if len(parts) == 2:\n",
        "            code = parts[0].replace('path:', '')\n",
        "            name = parts[1]\n",
        "            pathway_dict[code] = name\n",
        "\n",
        "    # Crie um DataFrame a partir do dicionário\n",
        "    import pandas as pd\n",
        "    pathway_df = pd.DataFrame(list(pathway_dict.items()), columns=['Código', 'Nome'])\n",
        "\n",
        "    # Exiba o DataFrame\n",
        "    print(pathway_df)\n",
        "else:\n",
        "    print('Erro ao acessar a API do KEGG')\n"
      ],
      "metadata": {
        "id": "x3WVGp6ADkHY"
      },
      "execution_count": null,
      "outputs": []
    },
    {
      "cell_type": "code",
      "source": [
        "import pandas as pd\n",
        "\n",
        "# Suponha que você já tenha os DataFrames df_frequencia_genes e pathway_df\n",
        "\n",
        "# Crie um dicionário que mapeia códigos para nomes\n",
        "codigo_para_nome = dict(zip(pathway_df['Código'], pathway_df['Nome']))\n",
        "\n",
        "# Use a função map para substituir os códigos pelos nomes no DataFrame df_frequencia_genes\n",
        "df_frequencia_genes['Gene'] = df_frequencia_genes['Gene'].map(codigo_para_nome)\n",
        "\n",
        "# Exiba o DataFrame resultante\n",
        "print(df_frequencia_genes)"
      ],
      "metadata": {
        "id": "BGgpwgxIDlvA"
      },
      "execution_count": null,
      "outputs": []
    },
    {
      "cell_type": "code",
      "source": [
        "import pandas as pd\n",
        "import matplotlib.pyplot as plt\n",
        "\n",
        "# Suponha que você já tenha o DataFrame df_frequencia_genes\n",
        "\n",
        "# Ordene o DataFrame pela coluna 'Frequência' em ordem decrescente\n",
        "df_frequencia_genes = df_frequencia_genes.sort_values(by='Frequência', ascending=False)\n",
        "\n",
        "# Pegue os 10 genes mais comuns\n",
        "top_10_genes = df_frequencia_genes.head(10)\n",
        "\n",
        "# Crie um gráfico de barras para os 10 genes mais comuns\n",
        "plt.figure(figsize=(12, 6))\n",
        "plt.bar(top_10_genes['Gene'], top_10_genes['Frequência'])\n",
        "\n",
        "# Rotacione os rótulos do eixo x para facilitar a leitura (opcional)\n",
        "plt.xticks(rotation=90)\n",
        "\n",
        "# Defina rótulos para os eixos\n",
        "plt.xlabel('Vias metabólicas')\n",
        "plt.ylabel('Frequência')\n",
        "\n",
        "# Defina o título do gráfico\n",
        "plt.title('Vias metabólicas mais encontradas')\n",
        "\n",
        "# Exiba o gráfico\n",
        "plt.tight_layout()\n",
        "plt.show()\n"
      ],
      "metadata": {
        "id": "kVmDF-GaK5jN"
      },
      "execution_count": null,
      "outputs": []
    },
    {
      "cell_type": "code",
      "source": [
        "import pandas as pd\n",
        "\n",
        "# Carregue seus dados da tabela em um DataFrame do pandas\n",
        "data = pd.read_csv('/content/drive/MyDrive/Sdd/eggnog.tsv', sep= \"\\t\")  # Substitua 'seu_arquivo.csv' pelo caminho para o seu arquivo\n",
        "\n",
        "# Suponha que os nomes dos genes estejam em uma coluna chamada 'Gene'\n",
        "data = data[['KEGG_Pathway']]\n",
        "data = data[data[\"KEGG_Pathway\"].str.contains(\"-\") == False]\n",
        "data['KEGG_Pathway'] = data['KEGG_Pathway'].str.split(',')\n",
        "data = data.explode('KEGG_Pathway')\n",
        "data = data[~data['KEGG_Pathway'].str.startswith('ko')]\n",
        "data.reset_index(drop=True, inplace=True)\n",
        "\n",
        "# Use o método 'value_counts()' para calcular a frequência de cada gene\n",
        "frequencia_genes = data['KEGG_Pathway'].value_counts()\n",
        "\n",
        "# Crie um novo DataFrame com as colunas 'Gene' e 'Frequência'\n",
        "df_frequencia_genes = pd.DataFrame({'Gene': frequencia_genes.index, 'Frequência': frequencia_genes.values})\n",
        "\n",
        "# Exiba o novo DataFrame\n",
        "print(df_frequencia_genes)\n"
      ],
      "metadata": {
        "id": "UXrO7vs_N-DC"
      },
      "execution_count": null,
      "outputs": []
    },
    {
      "cell_type": "code",
      "source": [
        "import requests\n",
        "\n",
        "# URL da API do KEGG para listar todos os Pathways\n",
        "url = 'http://rest.kegg.jp/list/pathway/'\n",
        "\n",
        "# Faça uma solicitação GET para obter a lista de Pathways\n",
        "response = requests.get(url)\n",
        "\n",
        "# Verifique se a solicitação foi bem-sucedida\n",
        "if response.status_code == 200:\n",
        "    # Divida a resposta em linhas\n",
        "    lines = response.text.strip().split('\\n')\n",
        "\n",
        "    # Crie um dicionário para armazenar os códigos e nomes dos Pathways\n",
        "    pathway_dict = {}\n",
        "\n",
        "    # Itere pelas linhas e extraia os códigos e nomes\n",
        "    for line in lines:\n",
        "        parts = line.split('\\t')\n",
        "        if len(parts) == 2:\n",
        "            code = parts[0].replace('path:', '')\n",
        "            name = parts[1]\n",
        "            pathway_dict[code] = name\n",
        "\n",
        "    # Crie um DataFrame a partir do dicionário\n",
        "    import pandas as pd\n",
        "    pathway_df = pd.DataFrame(list(pathway_dict.items()), columns=['Código', 'Nome'])\n",
        "\n",
        "    # Exiba o DataFrame\n",
        "    print(pathway_df)\n",
        "else:\n",
        "    print('Erro ao acessar a API do KEGG')\n"
      ],
      "metadata": {
        "id": "9ccGSEI5N-DI"
      },
      "execution_count": null,
      "outputs": []
    },
    {
      "cell_type": "code",
      "source": [
        "import pandas as pd\n",
        "\n",
        "# Suponha que você já tenha os DataFrames df_frequencia_genes e pathway_df\n",
        "\n",
        "# Crie um dicionário que mapeia códigos para nomes\n",
        "codigo_para_nome = dict(zip(pathway_df['Código'], pathway_df['Nome']))\n",
        "\n",
        "# Use a função map para substituir os códigos pelos nomes no DataFrame df_frequencia_genes\n",
        "df_frequencia_genes['Gene'] = df_frequencia_genes['Gene'].map(codigo_para_nome)\n",
        "\n",
        "# Exiba o DataFrame resultante\n",
        "print(df_frequencia_genes)"
      ],
      "metadata": {
        "id": "cy5lnKr2N-DL"
      },
      "execution_count": null,
      "outputs": []
    },
    {
      "cell_type": "code",
      "source": [
        "import pandas as pd\n",
        "import matplotlib.pyplot as plt\n",
        "\n",
        "# Suponha que você já tenha o DataFrame df_frequencia_genes\n",
        "\n",
        "# Ordene o DataFrame pela coluna 'Frequência' em ordem decrescente\n",
        "df_frequencia_genes = df_frequencia_genes.sort_values(by='Frequência', ascending=False)\n",
        "\n",
        "# Pegue os 10 genes mais comuns\n",
        "top_10_genes = df_frequencia_genes.head(10)\n",
        "\n",
        "# Crie um gráfico de barras para os 10 genes mais comuns\n",
        "plt.figure(figsize=(12, 6))\n",
        "plt.bar(top_10_genes['Gene'], top_10_genes['Frequência'])\n",
        "\n",
        "# Rotacione os rótulos do eixo x para facilitar a leitura (opcional)\n",
        "plt.xticks(rotation=90)\n",
        "\n",
        "# Defina rótulos para os eixos\n",
        "plt.xlabel('Vias metabólicas')\n",
        "plt.ylabel('Frequência')\n",
        "\n",
        "# Defina o título do gráfico\n",
        "plt.title('Vias metabólicas mais encontradas')\n",
        "\n",
        "# Exiba o gráfico\n",
        "plt.tight_layout()\n",
        "plt.show()\n"
      ],
      "metadata": {
        "id": "sEZzISmiN-DO"
      },
      "execution_count": null,
      "outputs": []
    },
    {
      "cell_type": "code",
      "source": [
        "df_frequencia_genes.to_csv('freq.csv')\n",
        "pathway_df.to_csv('pathway.csv')"
      ],
      "metadata": {
        "id": "sGtF405wPvon"
      },
      "execution_count": null,
      "outputs": []
    },
    {
      "cell_type": "markdown",
      "source": [
        "# KEGG PATHWAYS - MODULE\n"
      ],
      "metadata": {
        "id": "jnpS3mR-HJrC"
      }
    },
    {
      "cell_type": "code",
      "source": [
        "import pandas as pd\n",
        "\n",
        "# Carregue seus dados da tabela em um DataFrame do pandas\n",
        "data = pd.read_csv('/content/drive/MyDrive/Colab Notebooks/phanns/eggnog_completos_v2.tsv', sep= \"\\t\")  # Substitua\n",
        "\n",
        "# Suponha que os nomes dos genes estejam em uma coluna chamada 'Gene'\n",
        "data = data[['KEGG_Pathway']]\n",
        "data = data[data[\"KEGG_Pathway\"].str.contains(\"-\") == False]\n",
        "data['KEGG_Pathway'] = data['KEGG_Pathway'].str.split(',')\n",
        "data = data.explode('KEGG_Pathway')\n",
        "data = data[~data['KEGG_Pathway'].str.startswith('map')]\n",
        "data.reset_index(drop=True, inplace=True)\n",
        "\n",
        "# Use o método 'value_counts()' para calcular a frequência de cada gene\n",
        "frequencia_genes = data['KEGG_Pathway'].value_counts()\n",
        "\n",
        "# Crie um novo DataFrame com as colunas 'Gene' e 'Frequência'\n",
        "df_frequencia_genes = pd.DataFrame({'Gene': frequencia_genes.index, 'Frequência': frequencia_genes.values})\n",
        "\n",
        "# Exiba o novo DataFrame\n",
        "print(df_frequencia_genes)\n"
      ],
      "metadata": {
        "id": "Zgh6ROgQHJrJ"
      },
      "execution_count": null,
      "outputs": []
    },
    {
      "cell_type": "code",
      "source": [
        "import requests\n",
        "\n",
        "# URL da API do KEGG para listar todos os Pathways\n",
        "url = 'http://rest.kegg.jp/list/pathway/ko'\n",
        "\n",
        "# Faça uma solicitação GET para obter a lista de Pathways\n",
        "response = requests.get(url)\n",
        "\n",
        "# Verifique se a solicitação foi bem-sucedida\n",
        "if response.status_code == 200:\n",
        "    # Divida a resposta em linhas\n",
        "    lines = response.text.strip().split('\\n')\n",
        "\n",
        "    # Crie um dicionário para armazenar os códigos e nomes dos Pathways\n",
        "    pathway_dict = {}\n",
        "\n",
        "    # Itere pelas linhas e extraia os códigos e nomes\n",
        "    for line in lines:\n",
        "        parts = line.split('\\t')\n",
        "        if len(parts) == 2:\n",
        "            code = parts[0].replace('path:', '')\n",
        "            name = parts[1]\n",
        "            pathway_dict[code] = name\n",
        "\n",
        "    # Crie um DataFrame a partir do dicionário\n",
        "    import pandas as pd\n",
        "    pathway_df = pd.DataFrame(list(pathway_dict.items()), columns=['Código', 'Nome'])\n",
        "\n",
        "    # Exiba o DataFrame\n",
        "    print(pathway_df)\n",
        "else:\n",
        "    print('Erro ao acessar a API do KEGG')\n"
      ],
      "metadata": {
        "colab": {
          "base_uri": "https://localhost:8080/"
        },
        "outputId": "158ce094-97f5-45ee-b6cd-3c7f4202821c",
        "id": "WZ5bR-kHHJrP"
      },
      "execution_count": null,
      "outputs": [
        {
          "output_type": "stream",
          "name": "stdout",
          "text": [
            "      Código                                              Nome\n",
            "0    ko01100                                Metabolic pathways\n",
            "1    ko01110             Biosynthesis of secondary metabolites\n",
            "2    ko01120      Microbial metabolism in diverse environments\n",
            "3    ko01200                                 Carbon metabolism\n",
            "4    ko01210                   2-Oxocarboxylic acid metabolism\n",
            "..       ...                                               ...\n",
            "480  ko01503  Cationic antimicrobial peptide (CAMP) resistance\n",
            "481  ko01521         EGFR tyrosine kinase inhibitor resistance\n",
            "482  ko01524                          Platinum drug resistance\n",
            "483  ko01523                             Antifolate resistance\n",
            "484  ko01522                              Endocrine resistance\n",
            "\n",
            "[485 rows x 2 columns]\n"
          ]
        }
      ]
    },
    {
      "cell_type": "code",
      "source": [
        "import pandas as pd\n",
        "\n",
        "# Suponha que você já tenha os DataFrames df_frequencia_genes e pathway_df\n",
        "\n",
        "# Crie um dicionário que mapeia códigos para nomes\n",
        "codigo_para_nome = dict(zip(pathway_df['Código'], pathway_df['Nome']))\n",
        "\n",
        "# Use a função map para substituir os códigos pelos nomes no DataFrame df_frequencia_genes\n",
        "df_frequencia_genes['Gene'] = df_frequencia_genes['Gene'].map(codigo_para_nome)\n",
        "\n",
        "# Exiba o DataFrame resultante\n",
        "print(df_frequencia_genes)"
      ],
      "metadata": {
        "id": "dJq_h9I4HJrT"
      },
      "execution_count": null,
      "outputs": []
    },
    {
      "cell_type": "code",
      "source": [
        "import pandas as pd\n",
        "import matplotlib.pyplot as plt\n",
        "\n",
        "# Suponha que você já tenha o DataFrame df_frequencia_genes\n",
        "\n",
        "# Ordene o DataFrame pela coluna 'Frequência' em ordem decrescente\n",
        "df_frequencia_genes = df_frequencia_genes.sort_values(by='Frequência', ascending=False)\n",
        "\n",
        "# Pegue os 10 genes mais comuns\n",
        "top_10_genes = df_frequencia_genes.head(10)\n",
        "\n",
        "# Crie um gráfico de barras para os 10 genes mais comuns\n",
        "plt.figure(figsize=(12, 6))\n",
        "plt.bar(top_10_genes['Gene'], top_10_genes['Frequência'])\n",
        "\n",
        "# Rotacione os rótulos do eixo x para facilitar a leitura (opcional)\n",
        "plt.xticks(rotation=90)\n",
        "\n",
        "# Defina rótulos para os eixos\n",
        "plt.xlabel('Vias metabólicas')\n",
        "plt.ylabel('Frequência')\n",
        "\n",
        "# Defina o título do gráfico\n",
        "plt.title('Vias metabólicas mais encontradas')\n",
        "\n",
        "# Exiba o gráfico\n",
        "plt.tight_layout()\n",
        "plt.show()\n"
      ],
      "metadata": {
        "id": "hMc3k97kHJrX"
      },
      "execution_count": null,
      "outputs": []
    },
    {
      "cell_type": "code",
      "source": [
        "import pandas as pd\n",
        "\n",
        "# Carregue seus dados da tabela em um DataFrame do pandas\n",
        "data = pd.read_csv('/content/drive/MyDrive/Colab Notebooks/phanns/eggnog_completos_v2.tsv', sep= \"\\t\")  # Substitua 'seu_arquivo.csv' pelo caminho para o seu arquivo\n",
        "\n",
        "# Suponha que os nomes dos genes estejam em uma coluna chamada 'Gene'\n",
        "data = data[['KEGG_Pathway']]\n",
        "data = data[data[\"KEGG_Pathway\"].str.contains(\"-\") == False]\n",
        "data['KEGG_Pathway'] = data['KEGG_Pathway'].str.split(',')\n",
        "data = data.explode('KEGG_Pathway')\n",
        "data = data[~data['KEGG_Pathway'].str.startswith('ko')]\n",
        "data.reset_index(drop=True, inplace=True)\n",
        "\n",
        "# Use o método 'value_counts()' para calcular a frequência de cada gene\n",
        "frequencia_genes = data['KEGG_Pathway'].value_counts()\n",
        "\n",
        "# Crie um novo DataFrame com as colunas 'Gene' e 'Frequência'\n",
        "df_frequencia_genes = pd.DataFrame({'Gene': frequencia_genes.index, 'Frequência': frequencia_genes.values})\n",
        "\n",
        "# Exiba o novo DataFrame\n",
        "print(df_frequencia_genes)\n"
      ],
      "metadata": {
        "id": "7nqAO03MHJra"
      },
      "execution_count": null,
      "outputs": []
    },
    {
      "cell_type": "code",
      "source": [
        "import requests\n",
        "\n",
        "# URL da API do KEGG para listar todos os Pathways\n",
        "url = 'http://rest.kegg.jp/list/pathway/'\n",
        "\n",
        "# Faça uma solicitação GET para obter a lista de Pathways\n",
        "response = requests.get(url)\n",
        "\n",
        "# Verifique se a solicitação foi bem-sucedida\n",
        "if response.status_code == 200:\n",
        "    # Divida a resposta em linhas\n",
        "    lines = response.text.strip().split('\\n')\n",
        "\n",
        "    # Crie um dicionário para armazenar os códigos e nomes dos Pathways\n",
        "    pathway_dict = {}\n",
        "\n",
        "    # Itere pelas linhas e extraia os códigos e nomes\n",
        "    for line in lines:\n",
        "        parts = line.split('\\t')\n",
        "        if len(parts) == 2:\n",
        "            code = parts[0].replace('path:', '')\n",
        "            name = parts[1]\n",
        "            pathway_dict[code] = name\n",
        "\n",
        "    # Crie um DataFrame a partir do dicionário\n",
        "    import pandas as pd\n",
        "    pathway_df = pd.DataFrame(list(pathway_dict.items()), columns=['Código', 'Nome'])\n",
        "\n",
        "    # Exiba o DataFrame\n",
        "    print(pathway_df)\n",
        "else:\n",
        "    print('Erro ao acessar a API do KEGG')\n"
      ],
      "metadata": {
        "id": "TeSpXoOuHJrc"
      },
      "execution_count": null,
      "outputs": []
    },
    {
      "cell_type": "code",
      "source": [
        "import pandas as pd\n",
        "\n",
        "# Suponha que você já tenha os DataFrames df_frequencia_genes e pathway_df\n",
        "\n",
        "# Crie um dicionário que mapeia códigos para nomes\n",
        "codigo_para_nome = dict(zip(pathway_df['Código'], pathway_df['Nome']))\n",
        "\n",
        "# Use a função map para substituir os códigos pelos nomes no DataFrame df_frequencia_genes\n",
        "df_frequencia_genes['Gene'] = df_frequencia_genes['Gene'].map(codigo_para_nome)\n",
        "\n",
        "# Exiba o DataFrame resultante\n",
        "print(df_frequencia_genes)"
      ],
      "metadata": {
        "id": "e-pvgBpXHJre"
      },
      "execution_count": null,
      "outputs": []
    },
    {
      "cell_type": "code",
      "source": [
        "import pandas as pd\n",
        "import matplotlib.pyplot as plt\n",
        "\n",
        "# Suponha que você já tenha o DataFrame df_frequencia_genes\n",
        "\n",
        "# Ordene o DataFrame pela coluna 'Frequência' em ordem decrescente\n",
        "df_frequencia_genes = df_frequencia_genes.sort_values(by='Frequência', ascending=False)\n",
        "\n",
        "# Pegue os 10 genes mais comuns\n",
        "top_10_genes = df_frequencia_genes.head(10)\n",
        "\n",
        "# Crie um gráfico de barras para os 10 genes mais comuns\n",
        "plt.figure(figsize=(12, 6))\n",
        "plt.bar(top_10_genes['Gene'], top_10_genes['Frequência'])\n",
        "\n",
        "# Rotacione os rótulos do eixo x para facilitar a leitura (opcional)\n",
        "plt.xticks(rotation=90)\n",
        "\n",
        "# Defina rótulos para os eixos\n",
        "plt.xlabel('Vias metabólicas')\n",
        "plt.ylabel('Frequência')\n",
        "\n",
        "# Defina o título do gráfico\n",
        "plt.title('Vias metabólicas mais encontradas')\n",
        "\n",
        "# Exiba o gráfico\n",
        "plt.tight_layout()\n",
        "plt.show()\n"
      ],
      "metadata": {
        "id": "U4nzCS4wHJrf"
      },
      "execution_count": null,
      "outputs": []
    },
    {
      "cell_type": "code",
      "source": [
        "df_frequencia_genes.to_csv('freq.csv')\n",
        "pathway_df.to_csv('pathway.csv')"
      ],
      "metadata": {
        "id": "neHx7ml7HJrg"
      },
      "execution_count": null,
      "outputs": []
    },
    {
      "cell_type": "markdown",
      "source": [
        "Separa em classes, subclasses etc\n",
        "Fazer anotação com genomas de plantas e um com virus\n",
        "Genoma de referencia de bacteria --> Faz anotação dela\n"
      ],
      "metadata": {
        "id": "ndV3jQ46L_M2"
      }
    }
  ]
}